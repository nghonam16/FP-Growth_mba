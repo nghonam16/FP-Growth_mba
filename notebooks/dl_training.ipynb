{
 "cells": [
  {
   "cell_type": "code",
   "execution_count": 7,
   "id": "c7c2e8e2",
   "metadata": {},
   "outputs": [],
   "source": [
    "import pandas as pd\n",
    "import torch\n",
    "from torch import nn\n",
    "from torch.utils.data import Dataset, DataLoader\n",
    "from pathlib import Path\n",
    "from tqdm import tqdm"
   ]
  },
  {
   "cell_type": "code",
   "execution_count": 8,
   "id": "e7dc3121",
   "metadata": {},
   "outputs": [
    {
     "name": "stdout",
     "output_type": "stream",
     "text": [
      "Data shape: (268285, 2)\n",
      "   user_id                              item_id\n",
      "0  17850.0   white hanging heart t-light holder\n",
      "1  17850.0                  white metal lantern\n",
      "2  17850.0       cream cupid hearts coat hanger\n",
      "3  17850.0  knitted union flag hot water bottle\n",
      "4  17850.0       red woolly hottie white heart.\n"
     ]
    }
   ],
   "source": [
    "DATA_PATH = Path(\"../data/user_item_dl.csv\")   # Path to your dataset\n",
    "df = pd.read_csv(DATA_PATH)\n",
    "print(\"Data shape:\", df.shape)\n",
    "print(df.head())"
   ]
  },
  {
   "cell_type": "code",
   "execution_count": 9,
   "id": "da385311",
   "metadata": {},
   "outputs": [
    {
     "name": "stdout",
     "output_type": "stream",
     "text": [
      "n_users = 4338, n_items = 3866\n"
     ]
    }
   ],
   "source": [
    "# Convert user and item IDs to indices\n",
    "user2idx = {u: i for i, u in enumerate(df[\"user_id\"].unique())}\n",
    "item2idx = {it: j for j, it in enumerate(df[\"item_id\"].unique())}   \n",
    "\n",
    "df[\"user_idx\"] = df[\"user_id\"].map(user2idx)\n",
    "df[\"item_idx\"] = df[\"item_id\"].map(item2idx)\n",
    "\n",
    "n_users, n_items = len(user2idx), len(item2idx)\n",
    "print(f\"n_users = {n_users}, n_items = {n_items}\")"
   ]
  },
  {
   "cell_type": "code",
   "execution_count": 10,
   "id": "b540db4a",
   "metadata": {},
   "outputs": [],
   "source": [
    "# dataset for training\n",
    "class InteractDS(Dataset):\n",
    "    def __init__(self, frame: pd.DataFrame):\n",
    "        self.u = torch.tensor(frame[\"user_idx\"].values, dtype=torch.long)\n",
    "        self.i = torch.tensor(frame[\"item_idx\"].values, dtype=torch.long)\n",
    "    def __len__(self): return len(self.u)\n",
    "    def __getitem__(self, idx):\n",
    "        return self.u[idx], self.i[idx]\n",
    "\n",
    "BATCH = 1024\n",
    "loader = DataLoader(InteractDS(df), batch_size=BATCH, shuffle=True)"
   ]
  },
  {
   "cell_type": "code",
   "execution_count": 11,
   "id": "80444cab",
   "metadata": {},
   "outputs": [],
   "source": [
    "# Define the NCF model\n",
    "class NCF(nn.Module):\n",
    "    def __init__(self, n_users: int, n_items: int, emb_size: int = 64):\n",
    "        super().__init__()\n",
    "        self.u_emb = nn.Embedding(n_users, emb_size)\n",
    "        self.i_emb = nn.Embedding(n_items, emb_size)\n",
    "        self.fc = nn.Sequential(\n",
    "            nn.Linear(emb_size * 2, 128),\n",
    "            nn.ReLU(),\n",
    "            nn.Linear(128, 1),\n",
    "            nn.Sigmoid()\n",
    "        )\n",
    "    def forward(self, u, i):\n",
    "        x = torch.cat([self.u_emb(u), self.i_emb(i)], dim=1)\n",
    "        return self.fc(x).squeeze()"
   ]
  },
  {
   "cell_type": "code",
   "execution_count": 12,
   "id": "be386015",
   "metadata": {},
   "outputs": [
    {
     "name": "stderr",
     "output_type": "stream",
     "text": [
      "Epoch 1/10: 100%|██████████| 262/262 [00:02<00:00, 110.75it/s]\n"
     ]
    },
    {
     "name": "stdout",
     "output_type": "stream",
     "text": [
      "Epoch 1: loss = 0.0819\n"
     ]
    },
    {
     "name": "stderr",
     "output_type": "stream",
     "text": [
      "Epoch 2/10: 100%|██████████| 262/262 [00:02<00:00, 105.52it/s]\n"
     ]
    },
    {
     "name": "stdout",
     "output_type": "stream",
     "text": [
      "Epoch 2: loss = 0.0021\n"
     ]
    },
    {
     "name": "stderr",
     "output_type": "stream",
     "text": [
      "Epoch 3/10: 100%|██████████| 262/262 [00:02<00:00, 93.59it/s] \n"
     ]
    },
    {
     "name": "stdout",
     "output_type": "stream",
     "text": [
      "Epoch 3: loss = 0.0007\n"
     ]
    },
    {
     "name": "stderr",
     "output_type": "stream",
     "text": [
      "Epoch 4/10: 100%|██████████| 262/262 [00:02<00:00, 92.01it/s] \n"
     ]
    },
    {
     "name": "stdout",
     "output_type": "stream",
     "text": [
      "Epoch 4: loss = 0.0004\n"
     ]
    },
    {
     "name": "stderr",
     "output_type": "stream",
     "text": [
      "Epoch 5/10: 100%|██████████| 262/262 [00:02<00:00, 93.24it/s] \n"
     ]
    },
    {
     "name": "stdout",
     "output_type": "stream",
     "text": [
      "Epoch 5: loss = 0.0002\n"
     ]
    },
    {
     "name": "stderr",
     "output_type": "stream",
     "text": [
      "Epoch 6/10: 100%|██████████| 262/262 [00:02<00:00, 100.51it/s]\n"
     ]
    },
    {
     "name": "stdout",
     "output_type": "stream",
     "text": [
      "Epoch 6: loss = 0.0001\n"
     ]
    },
    {
     "name": "stderr",
     "output_type": "stream",
     "text": [
      "Epoch 7/10: 100%|██████████| 262/262 [00:02<00:00, 91.40it/s] \n"
     ]
    },
    {
     "name": "stdout",
     "output_type": "stream",
     "text": [
      "Epoch 7: loss = 0.0001\n"
     ]
    },
    {
     "name": "stderr",
     "output_type": "stream",
     "text": [
      "Epoch 8/10: 100%|██████████| 262/262 [00:02<00:00, 91.15it/s] \n"
     ]
    },
    {
     "name": "stdout",
     "output_type": "stream",
     "text": [
      "Epoch 8: loss = 0.0001\n"
     ]
    },
    {
     "name": "stderr",
     "output_type": "stream",
     "text": [
      "Epoch 9/10: 100%|██████████| 262/262 [00:03<00:00, 71.76it/s]\n"
     ]
    },
    {
     "name": "stdout",
     "output_type": "stream",
     "text": [
      "Epoch 9: loss = 0.0001\n"
     ]
    },
    {
     "name": "stderr",
     "output_type": "stream",
     "text": [
      "Epoch 10/10: 100%|██████████| 262/262 [00:03<00:00, 71.90it/s]"
     ]
    },
    {
     "name": "stdout",
     "output_type": "stream",
     "text": [
      "Epoch 10: loss = 0.0000\n"
     ]
    },
    {
     "name": "stderr",
     "output_type": "stream",
     "text": [
      "\n"
     ]
    }
   ],
   "source": [
    "device = \"cuda\" if torch.cuda.is_available() else \"cpu\"\n",
    "model  = NCF(n_users, n_items).to(device)\n",
    "opt    = torch.optim.Adam(model.parameters(), lr=1e-3)\n",
    "lossf  = nn.BCELoss()\n",
    "\n",
    "EPOCHS = 10\n",
    "for epoch in range(1, EPOCHS + 1):\n",
    "    model.train(); running = 0\n",
    "    for u, i in tqdm(loader, desc=f\"Epoch {epoch}/{EPOCHS}\"):\n",
    "        u, i = u.to(device), i.to(device)\n",
    "        pred = model(u, i)\n",
    "        # implicit feedback: mọi tương tác = 1\n",
    "        loss = lossf(pred, torch.ones_like(pred))\n",
    "        opt.zero_grad(); loss.backward(); opt.step()\n",
    "        running += loss.item() * len(u)\n",
    "    print(f\"Epoch {epoch}: loss = {running/len(df):.4f}\")"
   ]
  },
  {
   "cell_type": "code",
   "execution_count": 13,
   "id": "be7caf86",
   "metadata": {},
   "outputs": [
    {
     "name": "stdout",
     "output_type": "stream",
     "text": [
      "Saved model → D:\\Documents\\My Project\\FP-Growth_mba\\models\\ncf_model.pt\n"
     ]
    }
   ],
   "source": [
    "MODEL_PATH = Path(\"../models/ncf_model.pt\")\n",
    "MODEL_PATH.parent.mkdir(exist_ok=True)\n",
    "torch.save({\n",
    "    \"model\": model.state_dict(),\n",
    "    \"user2idx\": user2idx,\n",
    "    \"item2idx\": item2idx\n",
    "}, MODEL_PATH)\n",
    "print(\"Saved model →\", MODEL_PATH.resolve())"
   ]
  }
 ],
 "metadata": {
  "kernelspec": {
   "display_name": "fp-growth_env",
   "language": "python",
   "name": "python3"
  },
  "language_info": {
   "codemirror_mode": {
    "name": "ipython",
    "version": 3
   },
   "file_extension": ".py",
   "mimetype": "text/x-python",
   "name": "python",
   "nbconvert_exporter": "python",
   "pygments_lexer": "ipython3",
   "version": "3.11.13"
  }
 },
 "nbformat": 4,
 "nbformat_minor": 5
}
