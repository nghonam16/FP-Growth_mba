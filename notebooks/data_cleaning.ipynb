{
 "cells": [
  {
   "cell_type": "markdown",
   "id": "c5a5d9f5",
   "metadata": {},
   "source": [
    "# Data Cleaning\n",
    "\n",
    "This notebook processes and cleans the transaction data to prepare it for FP-Growth mining and training the recommender model.\n",
    "\n",
    "- **Cleaning steps**:\n",
    "  - Remove canceled transactions (invoices starting with 'C')\n",
    "  - Drop rows with missing values\n",
    "  - Convert `InvoiceDate` to datetime\n",
    "  - Normalize item names (lowercase, strip spaces, etc.)\n",
    "- **Output**:\n",
    "  - A cleaned CSV file (`clean_transactions.csv`) ready for analysis"
   ]
  },
  {
   "cell_type": "code",
   "execution_count": 1,
   "id": "0f934a97",
   "metadata": {},
   "outputs": [],
   "source": [
    "import pandas as pd"
   ]
  },
  {
   "cell_type": "code",
   "execution_count": 3,
   "id": "f09948c6",
   "metadata": {},
   "outputs": [],
   "source": [
    "df = pd.read_csv(\"../data/online_retail.csv\", sep=\",\", encoding=\"utf-8\")"
   ]
  },
  {
   "cell_type": "code",
   "execution_count": null,
   "id": "1cfd8b5b",
   "metadata": {},
   "outputs": [],
   "source": [
    "cleaned = (\n",
    "    df.dropna(subset=[\"CustomerID\", \"Description\"])\n",
    "      .query(\"Quantity > 0 and UnitPrice > 0\")\n",
    "      .loc[~df[\"InvoiceNo\"].astype(str).str.startswith(\"C\")]\n",
    ")\n",
    "\n",
    "# Xuất dữ liệu transaction cho FP-Growth\n",
    "transactions = (\n",
    "    cleaned.groupby([\"InvoiceNo\", \"CustomerID\"])['Description']\n",
    "        .apply(lambda items: \",\".join(sorted(set(items.str.strip().str.lower()))))\n",
    "        .reset_index()\n",
    "        .rename(columns={\"InvoiceNo\": \"transaction_id\", \"CustomerID\": \"user_id\", \"Description\": \"items\"})\n",
    ")\n",
    "transactions.to_csv(\"../data/transactions_fpgrowth.csv\", index=False)\n",
    "\n",
    "# Xuất dữ liệu user-item cho Deep Learning\n",
    "user_item = (\n",
    "    cleaned[[\"CustomerID\", \"Description\"]].drop_duplicates()\n",
    "      .assign(Description=lambda col: col[\"Description\"].str.strip().str.lower())\n",
    "      .rename(columns={\"CustomerID\": \"user_id\", \"Description\": \"item_id\"})\n",
    ")\n",
    "user_item.to_csv(\"../data/user_item_dl.csv\", index=False)"
   ]
  },
  {
   "cell_type": "markdown",
   "id": "b5883ec1",
   "metadata": {},
   "source": [
    "## Conclusion\n",
    "\n",
    "Cleaning the raw Online Retail data produces consistent, error‑free transaction and user‑item files—essential for accurate FP‑Growth mining and deep‑learning training.\n"
   ]
  }
 ],
 "metadata": {
  "kernelspec": {
   "display_name": "fp-growth_env",
   "language": "python",
   "name": "python3"
  },
  "language_info": {
   "codemirror_mode": {
    "name": "ipython",
    "version": 3
   },
   "file_extension": ".py",
   "mimetype": "text/x-python",
   "name": "python",
   "nbconvert_exporter": "python",
   "pygments_lexer": "ipython3",
   "version": "3.11.13"
  }
 },
 "nbformat": 4,
 "nbformat_minor": 5
}
