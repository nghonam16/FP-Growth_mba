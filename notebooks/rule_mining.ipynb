{
 "cells": [
  {
   "cell_type": "markdown",
   "id": "903616f4",
   "metadata": {},
   "source": [
    "# Association Rule Mining using FP-Growth\n",
    "\n",
    "This notebook demonstrates how to extract frequent itemsets and association rules from transaction data using the FP-Growth algorithm, inspired by the Kaggle notebook by Mohammed Derouiche.\n",
    "\n",
    "---\n",
    "\n",
    "**Dataset**: Cleaned version of the [UCI Online Retail Dataset](https://archive.ics.uci.edu/ml/datasets/online+retail)  \n",
    "**Goal**: Generate association rules in the form `antecedents → consequents` to be used in a recommendation system API.\n"
   ]
  },
  {
   "cell_type": "code",
   "execution_count": 1,
   "id": "cb1d1d51",
   "metadata": {},
   "outputs": [],
   "source": [
    "# Import necessary libraries\n",
    "import pandas as pd\n",
    "from mlxtend.preprocessing import TransactionEncoder\n",
    "from mlxtend.frequent_patterns import fpgrowth, association_rules"
   ]
  },
  {
   "cell_type": "code",
   "execution_count": 2,
   "id": "e87e5e17",
   "metadata": {},
   "outputs": [],
   "source": [
    "df = pd.read_csv(\"../data/transactions_fpgrowth.csv\")\n",
    "transactions = df[\"items\"].str.split(\",\")"
   ]
  },
  {
   "cell_type": "code",
   "execution_count": 3,
   "id": "1e51b1a2",
   "metadata": {},
   "outputs": [],
   "source": [
    "te = TransactionEncoder()\n",
    "te_data = te.fit_transform(transactions)\n",
    "df_trans = pd.DataFrame(te_data, columns=te.columns_)"
   ]
  },
  {
   "cell_type": "code",
   "execution_count": 4,
   "id": "03d1fe3f",
   "metadata": {},
   "outputs": [],
   "source": [
    "frequent_itemsets = fpgrowth(df_trans, min_support=0.01, use_colnames=True)\n",
    "rules = association_rules(frequent_itemsets, metric=\"lift\", min_threshold=1)"
   ]
  },
  {
   "cell_type": "code",
   "execution_count": 5,
   "id": "955b3090",
   "metadata": {},
   "outputs": [],
   "source": [
    "rules_tidy = rules[[\"antecedents\", \"consequents\", \"confidence\"]].rename(\n",
    "    columns={\"antecedents\": \"antecedent\", \"consequents\": \"consequent\"}\n",
    ")\n",
    "rules_tidy[\"antecedent\"] = rules_tidy[\"antecedent\"].apply(lambda s: next(iter(s)))\n",
    "rules_tidy[\"consequent\"] = rules_tidy[\"consequent\"].apply(lambda s: next(iter(s)))\n",
    "rules_tidy = rules_tidy.sort_values(\"confidence\", ascending=False)"
   ]
  },
  {
   "cell_type": "code",
   "execution_count": 6,
   "id": "893bf42b",
   "metadata": {},
   "outputs": [],
   "source": [
    "rules_tidy.to_csv(\"../data/rules.csv\", index=False)"
   ]
  },
  {
   "cell_type": "code",
   "execution_count": 7,
   "id": "0068f496",
   "metadata": {},
   "outputs": [
    {
     "name": "stdout",
     "output_type": "stream",
     "text": [
      "Saved 952 rules to ../data/rules.csv\n"
     ]
    }
   ],
   "source": [
    "print(f\"Saved {len(rules_tidy)} rules to ../data/rules.csv\")"
   ]
  }
 ],
 "metadata": {
  "kernelspec": {
   "display_name": "fp-growth_env",
   "language": "python",
   "name": "python3"
  },
  "language_info": {
   "codemirror_mode": {
    "name": "ipython",
    "version": 3
   },
   "file_extension": ".py",
   "mimetype": "text/x-python",
   "name": "python",
   "nbconvert_exporter": "python",
   "pygments_lexer": "ipython3",
   "version": "3.11.13"
  }
 },
 "nbformat": 4,
 "nbformat_minor": 5
}
